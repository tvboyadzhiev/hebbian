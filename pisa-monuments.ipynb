{
 "cells": [
  {
   "cell_type": "code",
   "execution_count": 7,
   "metadata": {},
   "outputs": [],
   "source": [
    "import config"
   ]
  },
  {
   "cell_type": "code",
   "execution_count": 8,
   "metadata": {},
   "outputs": [],
   "source": [
    "from torchvision.datasets import ImageFolder\n",
    "from torch.utils.data import DataLoader\n",
    "from torchvision.transforms import v2\n",
    "import torch"
   ]
  },
  {
   "cell_type": "code",
   "execution_count": 9,
   "metadata": {},
   "outputs": [],
   "source": [
    "import numpy as np\n",
    "from matplotlib import pyplot as plt"
   ]
  },
  {
   "cell_type": "markdown",
   "metadata": {},
   "source": [
    "# Dataset Resolution #"
   ]
  },
  {
   "cell_type": "code",
   "execution_count": 10,
   "metadata": {},
   "outputs": [],
   "source": [
    "train_test = DataLoader(\n",
    "    ImageFolder(\n",
    "        config.data_root / 'pisa-monuments' / 'train_test',\n",
    "        transform=v2.Compose([\n",
    "            v2.ToImage(),\n",
    "            v2.ToDtype(torch.float32, scale=True)\n",
    "        ])\n",
    "    ),\n",
    "    batch_size=1,\n",
    "    shuffle=False\n",
    ")\n",
    "\n",
    "val = DataLoader(\n",
    "    ImageFolder(\n",
    "        config.data_root / 'pisa-monuments' / 'val',\n",
    "        transform=v2.Compose([\n",
    "            v2.ToImage(),\n",
    "            v2.ToDtype(torch.float32, scale=True)\n",
    "        ])\n",
    "    ),\n",
    "    batch_size=1,\n",
    "    shuffle=False\n",
    ")"
   ]
  },
  {
   "cell_type": "code",
   "execution_count": 11,
   "metadata": {},
   "outputs": [],
   "source": [
    "from fractions import Fraction\n",
    "sizes = np.zeros((2, len(train_test)), dtype=np.int32)"
   ]
  },
  {
   "cell_type": "code",
   "execution_count": 12,
   "metadata": {},
   "outputs": [],
   "source": [
    "ratios = set()\n",
    "for i, (img, cat) in enumerate(train_test):\n",
    "    res = img.size()[2:]\n",
    "    ratios.add(Fraction(res[0], res[1]))\n",
    "    sizes[0, i], sizes[1, i] = res\n",
    "    \n",
    "for i, (img, cat) in enumerate(val):\n",
    "    res = img.size()[2:]\n",
    "    ratios.add(Fraction(res[0], res[1]))\n",
    "    sizes[0, i], sizes[1, i] = res"
   ]
  },
  {
   "cell_type": "markdown",
   "metadata": {},
   "source": [
    "The shortest edge of the image has very large variance"
   ]
  },
  {
   "cell_type": "markdown",
   "metadata": {},
   "source": [
    "The dataset consists of very large variety of aspect ratios, many of which are non-standard"
   ]
  },
  {
   "cell_type": "code",
   "execution_count": 13,
   "metadata": {},
   "outputs": [
    {
     "data": {
      "text/plain": [
       "{Fraction(139, 500),\n",
       " Fraction(2, 5),\n",
       " Fraction(59, 125),\n",
       " Fraction(239, 500),\n",
       " Fraction(12, 25),\n",
       " Fraction(249, 500),\n",
       " Fraction(1, 2),\n",
       " Fraction(129, 250),\n",
       " Fraction(267, 500),\n",
       " Fraction(137, 250),\n",
       " Fraction(277, 500),\n",
       " Fraction(139, 250),\n",
       " Fraction(14, 25),\n",
       " Fraction(281, 500),\n",
       " Fraction(141, 250),\n",
       " Fraction(283, 500),\n",
       " Fraction(291, 500),\n",
       " Fraction(73, 125),\n",
       " Fraction(299, 500),\n",
       " Fraction(151, 250),\n",
       " Fraction(61, 100),\n",
       " Fraction(77, 125),\n",
       " Fraction(78, 125),\n",
       " Fraction(313, 500),\n",
       " Fraction(157, 250),\n",
       " Fraction(63, 100),\n",
       " Fraction(79, 125),\n",
       " Fraction(319, 500),\n",
       " Fraction(321, 500),\n",
       " Fraction(161, 250),\n",
       " Fraction(323, 500),\n",
       " Fraction(81, 125),\n",
       " Fraction(13, 20),\n",
       " Fraction(163, 250),\n",
       " Fraction(157, 240),\n",
       " Fraction(82, 125),\n",
       " Fraction(329, 500),\n",
       " Fraction(33, 50),\n",
       " Fraction(331, 500),\n",
       " Fraction(83, 125),\n",
       " Fraction(333, 500),\n",
       " Fraction(167, 250),\n",
       " Fraction(67, 100),\n",
       " Fraction(84, 125),\n",
       " Fraction(337, 500),\n",
       " Fraction(169, 250),\n",
       " Fraction(339, 500),\n",
       " Fraction(17, 25),\n",
       " Fraction(341, 500),\n",
       " Fraction(171, 250),\n",
       " Fraction(343, 500),\n",
       " Fraction(69, 100),\n",
       " Fraction(173, 250),\n",
       " Fraction(347, 500),\n",
       " Fraction(87, 125),\n",
       " Fraction(349, 500),\n",
       " Fraction(7, 10),\n",
       " Fraction(351, 500),\n",
       " Fraction(88, 125),\n",
       " Fraction(353, 500),\n",
       " Fraction(177, 250),\n",
       " Fraction(71, 100),\n",
       " Fraction(89, 125),\n",
       " Fraction(357, 500),\n",
       " Fraction(359, 500),\n",
       " Fraction(361, 500),\n",
       " Fraction(363, 500),\n",
       " Fraction(73, 100),\n",
       " Fraction(92, 125),\n",
       " Fraction(37, 50),\n",
       " Fraction(371, 500),\n",
       " Fraction(373, 500),\n",
       " Fraction(187, 250),\n",
       " Fraction(3, 4),\n",
       " Fraction(94, 125),\n",
       " Fraction(377, 500),\n",
       " Fraction(189, 250),\n",
       " Fraction(381, 500),\n",
       " Fraction(383, 500),\n",
       " Fraction(77, 100),\n",
       " Fraction(84, 109),\n",
       " Fraction(39, 50),\n",
       " Fraction(391, 500),\n",
       " Fraction(393, 500),\n",
       " Fraction(397, 500),\n",
       " Fraction(4, 5),\n",
       " Fraction(403, 500),\n",
       " Fraction(103, 125),\n",
       " Fraction(413, 500),\n",
       " Fraction(104, 125),\n",
       " Fraction(107, 125),\n",
       " Fraction(43, 50),\n",
       " Fraction(441, 500),\n",
       " Fraction(459, 500),\n",
       " Fraction(116, 125),\n",
       " Fraction(24, 25),\n",
       " Fraction(97, 100),\n",
       " Fraction(493, 500),\n",
       " Fraction(247, 250),\n",
       " Fraction(497, 500),\n",
       " Fraction(249, 250),\n",
       " Fraction(499, 500),\n",
       " Fraction(1, 1),\n",
       " Fraction(250, 249),\n",
       " Fraction(125, 124),\n",
       " Fraction(500, 493),\n",
       " Fraction(125, 118),\n",
       " Fraction(500, 459),\n",
       " Fraction(125, 114),\n",
       " Fraction(500, 449),\n",
       " Fraction(125, 112),\n",
       " Fraction(250, 221),\n",
       " Fraction(500, 439),\n",
       " Fraction(100, 81),\n",
       " Fraction(500, 403),\n",
       " Fraction(5, 4),\n",
       " Fraction(500, 393),\n",
       " Fraction(500, 389),\n",
       " Fraction(500, 387),\n",
       " Fraction(250, 193),\n",
       " Fraction(125, 96),\n",
       " Fraction(500, 383),\n",
       " Fraction(250, 189),\n",
       " Fraction(500, 377),\n",
       " Fraction(453, 340),\n",
       " Fraction(4, 3),\n",
       " Fraction(250, 187),\n",
       " Fraction(500, 373),\n",
       " Fraction(50, 37),\n",
       " Fraction(125, 92),\n",
       " Fraction(500, 367),\n",
       " Fraction(250, 183),\n",
       " Fraction(125, 91),\n",
       " Fraction(250, 181),\n",
       " Fraction(500, 361),\n",
       " Fraction(500, 359),\n",
       " Fraction(500, 357),\n",
       " Fraction(125, 89),\n",
       " Fraction(125, 88),\n",
       " Fraction(500, 351),\n",
       " Fraction(10, 7),\n",
       " Fraction(500, 349),\n",
       " Fraction(500, 347),\n",
       " Fraction(500, 341),\n",
       " Fraction(25, 17),\n",
       " Fraction(250, 169),\n",
       " Fraction(500, 337),\n",
       " Fraction(125, 84),\n",
       " Fraction(100, 67),\n",
       " Fraction(250, 167),\n",
       " Fraction(500, 333),\n",
       " Fraction(125, 83),\n",
       " Fraction(500, 331),\n",
       " Fraction(50, 33),\n",
       " Fraction(500, 329),\n",
       " Fraction(500, 327),\n",
       " Fraction(250, 163),\n",
       " Fraction(20, 13),\n",
       " Fraction(250, 161),\n",
       " Fraction(100, 63),\n",
       " Fraction(250, 157),\n",
       " Fraction(250, 151),\n",
       " Fraction(250, 149),\n",
       " Fraction(125, 73),\n",
       " Fraction(250, 143),\n",
       " Fraction(500, 281),\n",
       " Fraction(125, 69),\n",
       " Fraction(50, 27),\n",
       " Fraction(100, 53),\n",
       " Fraction(125, 47),\n",
       " Fraction(500, 179)}"
      ]
     },
     "execution_count": 13,
     "metadata": {},
     "output_type": "execute_result"
    }
   ],
   "source": [
    "ratios"
   ]
  },
  {
   "cell_type": "markdown",
   "metadata": {},
   "source": [
    "**Histogram of aspect ratios**"
   ]
  },
  {
   "cell_type": "code",
   "execution_count": 14,
   "metadata": {},
   "outputs": [
    {
     "data": {
      "text/plain": [
       "(array([ 2.,  6., 27., 47., 11., 13.,  7.,  4., 21., 19.,  5.,  4.,  3.,\n",
       "         0.,  0.,  0.,  0.,  0.,  1.,  1.]),\n",
       " array([0.278     , 0.4037648 , 0.52952961, 0.65529441, 0.78105922,\n",
       "        0.90682402, 1.03258883, 1.15835363, 1.28411844, 1.40988324,\n",
       "        1.53564804, 1.66141285, 1.78717765, 1.91294246, 2.03870726,\n",
       "        2.16447207, 2.29023687, 2.41600168, 2.54176648, 2.66753128,\n",
       "        2.79329609]),\n",
       " <BarContainer object of 20 artists>)"
      ]
     },
     "execution_count": 14,
     "metadata": {},
     "output_type": "execute_result"
    },
    {
     "data": {
      "image/png": "[encoded data removed]",
      "text/plain": [
       "<Figure size 640x480 with 1 Axes>"
      ]
     },
     "metadata": {},
     "output_type": "display_data"
    }
   ],
   "source": [
    "plt.hist(np.array([f.numerator / f.denominator for f in ratios]), 20)"
   ]
  },
  {
   "cell_type": "code",
   "execution_count": 15,
   "metadata": {},
   "outputs": [
    {
     "data": {
      "text/plain": [
       "(array([  2.,   0.,   2.,   7., 113.,  17., 140.,   0.,   8., 605.]),\n",
       " array([179. , 211.1, 243.2, 275.3, 307.4, 339.5, 371.6, 403.7, 435.8,\n",
       "        467.9, 500. ]),\n",
       " <BarContainer object of 10 artists>)"
      ]
     },
     "execution_count": 15,
     "metadata": {},
     "output_type": "execute_result"
    },
    {
     "data": {
      "image/png": "[encoded data removed]",
      "text/plain": [
       "<Figure size 640x480 with 1 Axes>"
      ]
     },
     "metadata": {},
     "output_type": "display_data"
    }
   ],
   "source": [
    "plt.hist(sizes[0])\n",
    "plt.hist(sizes[1])"
   ]
  },
  {
   "cell_type": "markdown",
   "metadata": {},
   "source": [
    "## Aspect Ratio ##"
   ]
  },
  {
   "cell_type": "markdown",
   "metadata": {},
   "source": [
    "* Aspect ratios have 2 peaks around 3/4 and 4/3, however it contains a lot of variance\n",
    "* There is an outlier around 2.5"
   ]
  },
  {
   "cell_type": "markdown",
   "metadata": {},
   "source": [
    "## Resolution ##"
   ]
  },
  {
   "cell_type": "markdown",
   "metadata": {},
   "source": [
    "* The resolution has one large peak around 350 and another around 500 is consistent with 3/4 and 4/3 and contains expected spread"
   ]
  },
  {
   "cell_type": "markdown",
   "metadata": {},
   "source": [
    "## Outliers ##\n",
    "\n",
    "There is an image with very extreme aspect ratio - over 2.5 and an image with very low resolution, less than 200."
   ]
  },
  {
   "cell_type": "markdown",
   "metadata": {},
   "source": [
    "There are 2 square images"
   ]
  },
  {
   "cell_type": "code",
   "execution_count": 16,
   "metadata": {},
   "outputs": [
    {
     "data": {
      "text/plain": [
       "[array([500, 500], dtype=int32), array([500, 500], dtype=int32)]"
      ]
     },
     "execution_count": 16,
     "metadata": {},
     "output_type": "execute_result"
    }
   ],
   "source": [
    "list(filter(lambda s: s[0] == s[1], sizes.transpose()))"
   ]
  },
  {
   "cell_type": "markdown",
   "metadata": {},
   "source": [
    "All of the images with very small shorter edge have very extreme aspect ratio"
   ]
  },
  {
   "cell_type": "code",
   "execution_count": 17,
   "metadata": {},
   "outputs": [
    {
     "data": {
      "text/plain": [
       "[array([500, 179], dtype=int32),\n",
       " array([240, 500], dtype=int32),\n",
       " array([240, 500], dtype=int32),\n",
       " array([236, 500], dtype=int32),\n",
       " array([139, 500], dtype=int32),\n",
       " array([239, 500], dtype=int32),\n",
       " array([249, 500], dtype=int32),\n",
       " array([200, 500], dtype=int32),\n",
       " array([500, 188], dtype=int32)]"
      ]
     },
     "execution_count": 17,
     "metadata": {},
     "output_type": "execute_result"
    }
   ],
   "source": [
    "list(filter(lambda s: min(s) < 250, sizes.transpose()))"
   ]
  },
  {
   "cell_type": "markdown",
   "metadata": {},
   "source": [
    "# Class Balance #"
   ]
  },
  {
   "cell_type": "code",
   "execution_count": 18,
   "metadata": {},
   "outputs": [],
   "source": [
    "train_freq = np.zeros(12)\n",
    "\n",
    "for x, y in train_test:\n",
    "    train_freq[y.item()] += 1"
   ]
  },
  {
   "cell_type": "code",
   "execution_count": 19,
   "metadata": {},
   "outputs": [
    {
     "data": {
      "text/plain": [
       "array([ 83.,  36.,  90., 110.,  42.,  89.,  56., 103.,  73.,  37.,  80.,\n",
       "        95.])"
      ]
     },
     "execution_count": 19,
     "metadata": {},
     "output_type": "execute_result"
    }
   ],
   "source": [
    "train_freq"
   ]
  },
  {
   "cell_type": "code",
   "execution_count": 20,
   "metadata": {},
   "outputs": [
    {
     "data": {
      "text/plain": [
       "([0, 1, 2, 3, 4, 5, 6, 7, 8, 9, 10, 11],\n",
       " [Text(0, 0, 'Pisa-Battistero'),\n",
       "  Text(1, 0, 'Pisa-Campo_Santo_Esterno'),\n",
       "  Text(2, 0, 'Pisa-Campo_Santo_Portico'),\n",
       "  Text(3, 0, 'Pisa-Campo_Santo_Prato'),\n",
       "  Text(4, 0, 'Pisa-Certosa'),\n",
       "  Text(5, 0, 'Pisa-Chiesa_della_Spina'),\n",
       "  Text(6, 0, 'Pisa-Cittadella'),\n",
       "  Text(7, 0, 'Pisa-Duomo'),\n",
       "  Text(8, 0, 'Pisa-Palazzo_Orologio'),\n",
       "  Text(9, 0, 'Pisa-SanPiero'),\n",
       "  Text(10, 0, 'Pisa-Scuola_Normale'),\n",
       "  Text(11, 0, 'Pisa-Torre')])"
      ]
     },
     "execution_count": 20,
     "metadata": {},
     "output_type": "execute_result"
    },
    {
     "data": {
      "image/png": "[encoded data removed]",
      "text/plain": [
       "<Figure size 640x480 with 1 Axes>"
      ]
     },
     "metadata": {},
     "output_type": "display_data"
    }
   ],
   "source": [
    "id_to_class = {val: key for (key, val) in train_test.dataset.class_to_idx.items()}\n",
    "plt.bar(list(map(lambda id: id_to_class[id], range(12))), train_freq)\n",
    "plt.xticks(rotation=90, ha='right')"
   ]
  },
  {
   "cell_type": "markdown",
   "metadata": {},
   "source": [
    "Some of the classes are underrepresented"
   ]
  },
  {
   "cell_type": "markdown",
   "metadata": {},
   "source": [
    "# Recommendation #"
   ]
  },
  {
   "cell_type": "markdown",
   "metadata": {},
   "source": [
    "1. Use random scale between 300 and 450 pixel for shorter edge\n",
    "2. Random Crop a sqare of 300x300\n",
    "3. Remove the images with less than 200 pixel shorter edge "
   ]
  }
 ],
 "metadata": {
  "kernelspec": {
   "display_name": "hebbian",
   "language": "python",
   "name": "python3"
  },
  "language_info": {
   "codemirror_mode": {
    "name": "ipython",
    "version": 3
   },
   "file_extension": ".py",
   "mimetype": "text/x-python",
   "name": "python",
   "nbconvert_exporter": "python",
   "pygments_lexer": "ipython3",
   "version": "3.11.4"
  }
 },
 "nbformat": 4,
 "nbformat_minor": 2
}
